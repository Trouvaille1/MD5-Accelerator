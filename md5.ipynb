{
 "cells": [
  {
   "cell_type": "markdown",
   "id": "db17c212",
   "metadata": {},
   "source": [
    "### 加载Overlay"
   ]
  },
  {
   "cell_type": "code",
   "execution_count": 49,
   "id": "a7420080",
   "metadata": {},
   "outputs": [],
   "source": [
    "from pynq import Overlay\n",
    "overlay = Overlay(\"./md5.bit\")\n",
    "md5 = overlay.md5_wrap_0\n",
    "register_map = md5.s_axi_CTRL.register_map"
   ]
  },
  {
   "cell_type": "markdown",
   "id": "754b27e4",
   "metadata": {},
   "source": [
    "### 给ip分配内存"
   ]
  },
  {
   "cell_type": "code",
   "execution_count": 50,
   "id": "4cfbbe32",
   "metadata": {},
   "outputs": [],
   "source": [
    "from pynq import allocate\n",
    "text_length=1024\n",
    "input_buffer=allocate(shape=(1024,), dtype='uint8',cacheable=False)\n",
    "output_buffer=allocate(shape=(16,), dtype='uint8',cacheable=False)"
   ]
  },
  {
   "cell_type": "markdown",
   "id": "91e82413",
   "metadata": {},
   "source": [
    "### 配置ip\n",
    "`pynq.allocate`函数用于为PL中的IP分配可以使用的内存空间。\n",
    "- 查看vitis hls的Synthesis Summery可知，text_length的Offset为0x18，text_input_1为0x10，result_1为0x1c。\n",
    "- 使用IP的write方法，将刚分配的内存空间的物理地址写入到ip对应位置上。"
   ]
  },
  {
   "cell_type": "code",
   "execution_count": 51,
   "id": "6222bb86",
   "metadata": {},
   "outputs": [],
   "source": [
    "import hashlib\n",
    "import array\n",
    "import math\n",
    "import numpy as np\n",
    "import time\n",
    "\n",
    "# 硬件加速函数\n",
    "def MD5_hardware(bstr):\n",
    "    # 把bstr从python的内存空间复制到连续内存空间中\n",
    "#     input_buffer[:] = np.zeros(1024, dtype='uint8')# 清空input_buffer\n",
    "    input_buffer[:len(bstr)] = bytearray(bstr)\n",
    "    \n",
    "    # 给ip传参\n",
    "    md5.s_axi_CTRL.write(0x18,len(bstr))\n",
    "    md5.s_axi_control.write(0x10,input_buffer.physical_address)\n",
    "    md5.s_axi_control.write(0x1c,output_buffer.physical_address)\n",
    "\n",
    "    # 启动ip\n",
    "    register_map.CTRL.AP_START = 1\n",
    "    \n",
    "    # 等待运算结束\n",
    "    while (register_map.CTRL.AP_DONE == 0):\n",
    "        pass\n",
    "    \n",
    "    # 将结果转换为16进制string\n",
    "    result = bytearray(output_buffer)\n",
    "    return result.hex()\n",
    "\n",
    "# 软件库函数\n",
    "def MD5_software(bstr):\n",
    "    return hashlib.md5(bstr).hexdigest()"
   ]
  },
  {
   "cell_type": "markdown",
   "id": "d72f380d",
   "metadata": {},
   "source": [
    "### 测试用例\n",
    "测试结果表明我们所设计的硬件加速函数功能等效于软件库函数。"
   ]
  },
  {
   "cell_type": "code",
   "execution_count": 52,
   "id": "3d6188e0",
   "metadata": {},
   "outputs": [
    {
     "name": "stdout",
     "output_type": "stream",
     "text": [
      "e10adc3949ba59abbe56e057f20f883e\n",
      "0845a5972cd9ad4a46bad66f1253581f\n",
      "All tests passed\n"
     ]
    }
   ],
   "source": [
    "import secrets\n",
    "\n",
    "print(MD5_hardware(b'123456')) # 输出结果应该为\"e10adc3949ba59abbe56e057f20f883e\"\n",
    "print(MD5_software(b'abcdefghijklmn'))# 输出结果应该为\"0845a5972cd9ad4a46bad66f1253581f\"\n",
    "\n",
    "for i in range(0, 512+1):\n",
    "    random_bytes = secrets.token_bytes(i)# secrets.token_bytes(i)返回i个随机字节，适用于密码学安全\n",
    "    hw = MD5_hardware(random_bytes)\n",
    "    sw = MD5_software(random_bytes)\n",
    "    assert (hw == sw), (i, hw, sw)\n",
    "\n",
    "print(\"All tests passed\")"
   ]
  },
  {
   "cell_type": "markdown",
   "id": "5273d6f4",
   "metadata": {},
   "source": [
    "### 计算加速比"
   ]
  },
  {
   "cell_type": "code",
   "execution_count": 53,
   "id": "20a57bf6",
   "metadata": {},
   "outputs": [
    {
     "name": "stdout",
     "output_type": "stream",
     "text": [
      "23.6 µs ± 2.23 µs per loop (mean ± std. dev. of 5 runs, 1000 loops each)\n",
      "482 µs ± 19.5 µs per loop (mean ± std. dev. of 5 runs, 1000 loops each)\n",
      "Performance gain: 0.04886471362146024\n"
     ]
    }
   ],
   "source": [
    "sw_time = %timeit -n 1000 -r 5 -o MD5_software(secrets.token_bytes(16))\n",
    "hw_time = %timeit -n 1000 -r 5 -o MD5_hardware(secrets.token_bytes(16))\n",
    "print('Performance gain:', sw_time.average / hw_time.average) "
   ]
  },
  {
   "cell_type": "code",
   "execution_count": null,
   "id": "6480a2a8",
   "metadata": {},
   "outputs": [],
   "source": []
  },
  {
   "cell_type": "code",
   "execution_count": null,
   "id": "78243d37",
   "metadata": {},
   "outputs": [],
   "source": []
  },
  {
   "cell_type": "code",
   "execution_count": null,
   "id": "827a4fd5",
   "metadata": {},
   "outputs": [],
   "source": []
  },
  {
   "cell_type": "code",
   "execution_count": null,
   "id": "c84b1358",
   "metadata": {},
   "outputs": [],
   "source": []
  },
  {
   "cell_type": "code",
   "execution_count": null,
   "id": "afdf012c",
   "metadata": {},
   "outputs": [],
   "source": []
  },
  {
   "cell_type": "code",
   "execution_count": null,
   "id": "16f4b8cd",
   "metadata": {},
   "outputs": [],
   "source": []
  }
 ],
 "metadata": {
  "kernelspec": {
   "display_name": "Python 3",
   "language": "python",
   "name": "python3"
  },
  "language_info": {
   "codemirror_mode": {
    "name": "ipython",
    "version": 3
   },
   "file_extension": ".py",
   "mimetype": "text/x-python",
   "name": "python",
   "nbconvert_exporter": "python",
   "pygments_lexer": "ipython3",
   "version": "3.8.2"
  }
 },
 "nbformat": 4,
 "nbformat_minor": 5
}
