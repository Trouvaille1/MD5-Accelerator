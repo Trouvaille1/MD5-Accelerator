{
 "cells": [
  {
   "cell_type": "markdown",
   "id": "db17c212",
   "metadata": {},
   "source": [
    "### 加载Overlay"
   ]
  },
  {
   "cell_type": "code",
   "execution_count": 9,
   "id": "a7420080",
   "metadata": {},
   "outputs": [],
   "source": [
    "from pynq import Overlay\n",
    "overlay = Overlay(\"./md5.bit\")\n",
    "md5 = overlay.md5_wrap_0\n",
    "register_map = md5.s_axi_CTRL.register_map"
   ]
  },
  {
   "cell_type": "code",
   "execution_count": 10,
   "id": "5c199df7",
   "metadata": {},
   "outputs": [
    {
     "data": {
      "text/plain": [
       "RegisterMap {\n",
       "  CTRL = Register(AP_START=0, AP_DONE=0, AP_IDLE=1, AP_READY=0, RESERVED_1=0, AUTO_RESTART=0, RESERVED_2=0, INTERRUPT=0, RESERVED_3=0),\n",
       "  GIER = Register(Enable=0, RESERVED=0),\n",
       "  IP_IER = Register(CHAN0_INT_EN=0, CHAN1_INT_EN=0, RESERVED_0=0),\n",
       "  IP_ISR = Register(CHAN0_INT_ST=0, CHAN1_INT_ST=0, RESERVED_0=0),\n",
       "  text_input_1 = Register(text_input=write-only),\n",
       "  ap_return = Register(ap_return=0),\n",
       "  text_input_2 = Register(text_input=write-only),\n",
       "  text_length = Register(text_length=write-only),\n",
       "  result_1 = Register(result=write-only),\n",
       "  result_2 = Register(result=write-only)\n",
       "}"
      ]
     },
     "execution_count": 10,
     "metadata": {},
     "output_type": "execute_result"
    }
   ],
   "source": [
    "register_map"
   ]
  },
  {
   "cell_type": "markdown",
   "id": "754b27e4",
   "metadata": {},
   "source": [
    "### 给ip分配内存"
   ]
  },
  {
   "cell_type": "code",
   "execution_count": 11,
   "id": "4cfbbe32",
   "metadata": {},
   "outputs": [],
   "source": [
    "from pynq import allocate\n",
    "input_buffer=allocate(shape=(1024,), dtype='uint8',cacheable=False)\n",
    "output_buffer=allocate(shape=(16,), dtype='uint8',cacheable=False)"
   ]
  },
  {
   "cell_type": "markdown",
   "id": "91e82413",
   "metadata": {},
   "source": [
    "### 配置ip\n",
    "`pynq.allocate`函数用于为PL中的IP分配可以使用的内存空间。\n",
    "- 查看vitis hls的Synthesis Summery可知，text_length的Offset为0x18，text_input_1为0x10，result_1为0x1c。\n",
    "- 使用IP的write方法，将刚分配的内存空间的物理地址写入到ip对应位置上。"
   ]
  },
  {
   "cell_type": "code",
   "execution_count": 12,
   "id": "6222bb86",
   "metadata": {},
   "outputs": [],
   "source": [
    "import hashlib\n",
    "import array\n",
    "import math\n",
    "import numpy as np\n",
    "import time\n",
    "\n",
    "# 硬件加速函数\n",
    "def MD5_hardware(bstr):\n",
    "    # 把bstr从python的内存空间复制到连续内存空间中\n",
    "    input_buffer[:len(bstr)] = bytearray(bstr)\n",
    "    \n",
    "    # 给ip传参\n",
    "    md5.s_axi_CTRL.write(0x18,len(bstr))\n",
    "    md5.s_axi_control.write(0x10,input_buffer.physical_address)\n",
    "    md5.s_axi_control.write(0x1c,output_buffer.physical_address)\n",
    "\n",
    "    # 启动ip\n",
    "    register_map.CTRL.AP_START = 1\n",
    "    \n",
    "    # 等待运算结束\n",
    "    while (register_map.CTRL.AP_DONE == 0):\n",
    "        pass\n",
    "    \n",
    "    # 将结果转换为16进制string\n",
    "    result = bytearray(output_buffer).hex()\n",
    "    return result\n",
    "\n",
    "# 软件库函数\n",
    "def MD5_software(bstr):\n",
    "    result=hashlib.md5(bstr).hexdigest()\n",
    "    return result"
   ]
  },
  {
   "cell_type": "markdown",
   "id": "d72f380d",
   "metadata": {},
   "source": [
    "### 测试用例\n",
    "测试结果表明我们所设计的硬件加速函数功能等效于软件库函数。"
   ]
  },
  {
   "cell_type": "code",
   "execution_count": 13,
   "id": "3d6188e0",
   "metadata": {},
   "outputs": [
    {
     "name": "stdout",
     "output_type": "stream",
     "text": [
      "e10adc3949ba59abbe56e057f20f883e\n",
      "0845a5972cd9ad4a46bad66f1253581f\n",
      "All tests passed\n"
     ]
    }
   ],
   "source": [
    "import secrets\n",
    "\n",
    "print(MD5_hardware(b'123456')) # 输出结果应该为\"e10adc3949ba59abbe56e057f20f883e\"\n",
    "print(MD5_software(b'abcdefghijklmn'))# 输出结果应该为\"0845a5972cd9ad4a46bad66f1253581f\"\n",
    "\n",
    "for i in range(0, 512+1):\n",
    "    random_bytes = secrets.token_bytes(i)# secrets.token_bytes(i)返回i个随机字节，适用于密码学安全\n",
    "    hw = MD5_hardware(random_bytes)\n",
    "    sw = MD5_software(random_bytes)\n",
    "    assert (hw == sw), (i, hw, sw)\n",
    "\n",
    "print(\"All tests passed\")"
   ]
  }
 ],
 "metadata": {
  "kernelspec": {
   "display_name": "Python 3",
   "language": "python",
   "name": "python3"
  },
  "language_info": {
   "codemirror_mode": {
    "name": "ipython",
    "version": 3
   },
   "file_extension": ".py",
   "mimetype": "text/x-python",
   "name": "python",
   "nbconvert_exporter": "python",
   "pygments_lexer": "ipython3",
   "version": "3.8.2"
  }
 },
 "nbformat": 4,
 "nbformat_minor": 5
}
